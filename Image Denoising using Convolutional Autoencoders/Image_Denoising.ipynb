{
 "cells": [
  {
   "cell_type": "markdown",
   "metadata": {
    "colab_type": "text",
    "id": "9iSi_iQcrHFm"
   },
   "source": [
    "# Image Denoising using Convolutional Autoencoders\n",
    "\n",
    "## 1) Import libraries"
   ]
  },
  {
   "cell_type": "code",
   "execution_count": null,
   "metadata": {
    "colab": {},
    "colab_type": "code",
    "id": "o1MwJJuxrHFo"
   },
   "outputs": [],
   "source": [
    "import os\n",
    "import numpy as np\n",
    "import pandas as pd\n",
    "from tensorflow.keras.layers import Input, Dense, Conv2D, MaxPooling2D, UpSampling2D\n",
    "from tensorflow.keras.models import Model\n",
    "from tensorflow.keras.datasets import mnist\n",
    "from tensorflow.keras.callbacks import EarlyStopping\n",
    "\n",
    "import matplotlib.pyplot as plt"
   ]
  },
  {
   "cell_type": "markdown",
   "metadata": {
    "colab_type": "text",
    "id": "fgXUOtCjrHF1"
   },
   "source": [
    "## 2) Load MNIST dataset\n",
    "\n",
    "* We'll use the MNIST hand-written digits dataset\n",
    "* The input images are normalized to between 0 and 1\n",
    "* We will use the original MNIST digits with shape (samples, 3, 28, 28)"
   ]
  },
  {
   "cell_type": "code",
   "execution_count": 2,
   "metadata": {
    "colab": {
     "base_uri": "https://localhost:8080/",
     "height": 54
    },
    "colab_type": "code",
    "id": "jAJsGTUkrHF7",
    "outputId": "003ad95a-360c-4fc2-923c-9f07fc324e6b"
   },
   "outputs": [
    {
     "name": "stdout",
     "output_type": "stream",
     "text": [
      "Downloading data from https://storage.googleapis.com/tensorflow/tf-keras-datasets/mnist.npz\n",
      "11493376/11490434 [==============================] - 0s 0us/step\n"
     ]
    }
   ],
   "source": [
    "(x_train, _), (x_test, _) = mnist.load_data()\n",
    "\n",
    "x_train = x_train.astype('float32') / 255.\n",
    "x_test = x_test.astype('float32') / 255.\n",
    "x_train = np.reshape(x_train, (len(x_train), 28, 28, 1))  \n",
    "x_test = np.reshape(x_test, (len(x_test), 28, 28, 1))"
   ]
  },
  {
   "cell_type": "markdown",
   "metadata": {},
   "source": [
    "## 3) Add noise to the dataset\n",
    "\n",
    "* We generate synthetic noisy digits by applying a gaussian noise matrix and clip the images between 0 and 1\n",
    "* Plot some of the images from the dataset"
   ]
  },
  {
   "cell_type": "code",
   "execution_count": null,
   "metadata": {
    "colab": {},
    "colab_type": "code",
    "id": "NZDvdaylrHGD"
   },
   "outputs": [],
   "source": [
    "noise_factor = 0.5\n",
    "x_train_noisy = x_train + noise_factor * np.random.normal(loc=0.0, scale=1.0, size=x_train.shape) \n",
    "x_test_noisy = x_test + noise_factor * np.random.normal(loc=0.0, scale=1.0, size=x_test.shape) \n",
    "\n",
    "x_train_noisy = np.clip(x_train_noisy, 0., 1.)\n",
    "x_test_noisy = np.clip(x_test_noisy, 0., 1.)"
   ]
  },
  {
   "cell_type": "code",
   "execution_count": 4,
   "metadata": {
    "colab": {
     "base_uri": "https://localhost:8080/",
     "height": 129
    },
    "colab_type": "code",
    "id": "Kn5RS8bmrHGM",
    "outputId": "fbad85d4-19b5-48b8-eb3b-31a0712faa60"
   },
   "outputs": [
    {
     "data": {
      "image/png": "[encoded data removed]",
      "text/plain": [
       "<Figure size 1440x144 with 9 Axes>"
      ]
     },
     "metadata": {
      "needs_background": "light",
      "tags": []
     },
     "output_type": "display_data"
    }
   ],
   "source": [
    "n = 10\n",
    "plt.figure(figsize=(20, 2))\n",
    "for i in range(1,n):\n",
    "    ax = plt.subplot(1, n, i)\n",
    "    plt.imshow(x_test_noisy[i].reshape(28, 28))\n",
    "    plt.gray()\n",
    "    ax.get_xaxis().set_visible(False)\n",
    "    ax.get_yaxis().set_visible(False)\n",
    "plt.show()"
   ]
  },
  {
   "cell_type": "markdown",
   "metadata": {
    "colab_type": "text",
    "id": "iajt7vKLrHGU"
   },
   "source": [
    "## 4) Define model architecture\n",
    "\n",
    "The encoder will consist of a stack of Conv2D and MaxPooling2D layers (max pooling being used for spatial down-sampling), while the decoder will consist of a stack of Conv2D and UpSampling2D layers."
   ]
  },
  {
   "cell_type": "code",
   "execution_count": 5,
   "metadata": {
    "colab": {
     "base_uri": "https://localhost:8080/",
     "height": 531
    },
    "colab_type": "code",
    "id": "Rk0xDMdkrHGW",
    "outputId": "dbed9f4d-d267-42ec-a255-5c77f2a95cd5"
   },
   "outputs": [
    {
     "name": "stdout",
     "output_type": "stream",
     "text": [
      "Model: \"model\"\n",
      "_________________________________________________________________\n",
      "Layer (type)                 Output Shape              Param #   \n",
      "=================================================================\n",
      "input_1 (InputLayer)         [(None, 28, 28, 1)]       0         \n",
      "_________________________________________________________________\n",
      "conv2d (Conv2D)              (None, 28, 28, 32)        320       \n",
      "_________________________________________________________________\n",
      "max_pooling2d (MaxPooling2D) (None, 14, 14, 32)        0         \n",
      "_________________________________________________________________\n",
      "conv2d_1 (Conv2D)            (None, 14, 14, 32)        9248      \n",
      "_________________________________________________________________\n",
      "max_pooling2d_1 (MaxPooling2 (None, 7, 7, 32)          0         \n",
      "_________________________________________________________________\n",
      "conv2d_2 (Conv2D)            (None, 7, 7, 32)          9248      \n",
      "_________________________________________________________________\n",
      "up_sampling2d (UpSampling2D) (None, 14, 14, 32)        0         \n",
      "_________________________________________________________________\n",
      "conv2d_3 (Conv2D)            (None, 14, 14, 32)        9248      \n",
      "_________________________________________________________________\n",
      "up_sampling2d_1 (UpSampling2 (None, 28, 28, 32)        0         \n",
      "_________________________________________________________________\n",
      "conv2d_4 (Conv2D)            (None, 28, 28, 1)         289       \n",
      "=================================================================\n",
      "Total params: 28,353\n",
      "Trainable params: 28,353\n",
      "Non-trainable params: 0\n",
      "_________________________________________________________________\n"
     ]
    }
   ],
   "source": [
    "input_img = Input(shape=(28, 28, 1))  \n",
    "\n",
    "x = Conv2D(32, (3, 3), activation='relu', padding='same')(input_img)\n",
    "x = MaxPooling2D((2, 2), padding='same')(x)\n",
    "x = Conv2D(32, (3, 3), activation='relu', padding='same')(x)\n",
    "encoded = MaxPooling2D((2, 2), padding='same')(x)\n",
    "\n",
    "# at this point the representation is (7, 7, 32)\n",
    "\n",
    "x = Conv2D(32, (3, 3), activation='relu', padding='same')(encoded)\n",
    "x = UpSampling2D((2, 2))(x)\n",
    "x = Conv2D(32, (3, 3), activation='relu', padding='same')(x)\n",
    "x = UpSampling2D((2, 2))(x)\n",
    "decoded = Conv2D(1, (3, 3), activation='sigmoid', padding='same')(x)\n",
    "\n",
    "autoencoder = Model(input_img, decoded)\n",
    "autoencoder.summary()"
   ]
  },
  {
   "cell_type": "markdown",
   "metadata": {
    "colab_type": "text",
    "id": "Htk6IIWlrHGd"
   },
   "source": [
    "## 5) Compile and Fit"
   ]
  },
  {
   "cell_type": "code",
   "execution_count": 6,
   "metadata": {
    "colab": {
     "base_uri": "https://localhost:8080/",
     "height": 1000
    },
    "colab_type": "code",
    "id": "rRKygK0lrHGg",
    "outputId": "91ecc557-942e-4e44-f22c-d9d36619330f"
   },
   "outputs": [
    {
     "name": "stdout",
     "output_type": "stream",
     "text": [
      "Epoch 1/50\n",
      "469/469 [==============================] - 6s 14ms/step - loss: 0.1611 - acc: 0.8076 - val_loss: 0.1152 - val_acc: 0.8090\n",
      "Epoch 2/50\n",
      "469/469 [==============================] - 6s 13ms/step - loss: 0.1117 - acc: 0.8114 - val_loss: 0.1071 - val_acc: 0.8111\n",
      "Epoch 3/50\n",
      "469/469 [==============================] - 6s 13ms/step - loss: 0.1062 - acc: 0.8122 - val_loss: 0.1033 - val_acc: 0.8114\n",
      "Epoch 4/50\n",
      "469/469 [==============================] - 6s 13ms/step - loss: 0.1033 - acc: 0.8126 - val_loss: 0.1017 - val_acc: 0.8115\n",
      "Epoch 5/50\n",
      "469/469 [==============================] - 6s 13ms/step - loss: 0.1017 - acc: 0.8128 - val_loss: 0.1003 - val_acc: 0.8122\n",
      "Epoch 6/50\n",
      "469/469 [==============================] - 6s 13ms/step - loss: 0.1005 - acc: 0.8130 - val_loss: 0.0993 - val_acc: 0.8118\n",
      "Epoch 7/50\n",
      "469/469 [==============================] - 6s 13ms/step - loss: 0.0997 - acc: 0.8130 - val_loss: 0.0986 - val_acc: 0.8121\n",
      "Epoch 8/50\n",
      "469/469 [==============================] - 6s 13ms/step - loss: 0.0990 - acc: 0.8131 - val_loss: 0.0981 - val_acc: 0.8120\n",
      "Epoch 9/50\n",
      "469/469 [==============================] - 6s 13ms/step - loss: 0.0984 - acc: 0.8132 - val_loss: 0.0976 - val_acc: 0.8120\n",
      "Epoch 10/50\n",
      "469/469 [==============================] - 6s 13ms/step - loss: 0.0979 - acc: 0.8133 - val_loss: 0.0969 - val_acc: 0.8123\n",
      "Epoch 11/50\n",
      "469/469 [==============================] - 6s 13ms/step - loss: 0.0974 - acc: 0.8133 - val_loss: 0.0970 - val_acc: 0.8119\n",
      "Epoch 12/50\n",
      "469/469 [==============================] - 6s 13ms/step - loss: 0.0971 - acc: 0.8133 - val_loss: 0.0962 - val_acc: 0.8123\n",
      "Epoch 13/50\n",
      "469/469 [==============================] - 6s 13ms/step - loss: 0.0967 - acc: 0.8134 - val_loss: 0.0959 - val_acc: 0.8126\n",
      "Epoch 14/50\n",
      "469/469 [==============================] - 6s 13ms/step - loss: 0.0964 - acc: 0.8134 - val_loss: 0.0957 - val_acc: 0.8124\n",
      "Epoch 15/50\n",
      "469/469 [==============================] - 6s 13ms/step - loss: 0.0961 - acc: 0.8135 - val_loss: 0.0956 - val_acc: 0.8124\n",
      "Epoch 16/50\n",
      "469/469 [==============================] - 6s 13ms/step - loss: 0.0959 - acc: 0.8135 - val_loss: 0.0953 - val_acc: 0.8124\n",
      "Epoch 17/50\n",
      "469/469 [==============================] - 6s 13ms/step - loss: 0.0957 - acc: 0.8135 - val_loss: 0.0950 - val_acc: 0.8125\n",
      "Epoch 18/50\n",
      "469/469 [==============================] - 6s 13ms/step - loss: 0.0955 - acc: 0.8135 - val_loss: 0.0953 - val_acc: 0.8128\n",
      "Epoch 19/50\n",
      "469/469 [==============================] - 6s 13ms/step - loss: 0.0954 - acc: 0.8135 - val_loss: 0.0951 - val_acc: 0.8124\n",
      "Epoch 20/50\n",
      "469/469 [==============================] - 6s 13ms/step - loss: 0.0952 - acc: 0.8136 - val_loss: 0.0947 - val_acc: 0.8126\n",
      "Epoch 21/50\n",
      "469/469 [==============================] - 6s 13ms/step - loss: 0.0951 - acc: 0.8136 - val_loss: 0.0949 - val_acc: 0.8128\n",
      "Epoch 22/50\n",
      "469/469 [==============================] - 6s 13ms/step - loss: 0.0950 - acc: 0.8136 - val_loss: 0.0951 - val_acc: 0.8129\n",
      "Epoch 23/50\n",
      "469/469 [==============================] - 6s 13ms/step - loss: 0.0948 - acc: 0.8136 - val_loss: 0.0946 - val_acc: 0.8128\n",
      "Epoch 24/50\n",
      "469/469 [==============================] - 6s 13ms/step - loss: 0.0948 - acc: 0.8136 - val_loss: 0.0944 - val_acc: 0.8127\n",
      "Epoch 25/50\n",
      "469/469 [==============================] - 6s 13ms/step - loss: 0.0947 - acc: 0.8136 - val_loss: 0.0942 - val_acc: 0.8126\n",
      "Epoch 26/50\n",
      "469/469 [==============================] - 6s 13ms/step - loss: 0.0946 - acc: 0.8136 - val_loss: 0.0950 - val_acc: 0.8130\n",
      "Epoch 27/50\n",
      "469/469 [==============================] - 6s 13ms/step - loss: 0.0945 - acc: 0.8136 - val_loss: 0.0942 - val_acc: 0.8124\n",
      "Epoch 28/50\n",
      "469/469 [==============================] - 6s 13ms/step - loss: 0.0944 - acc: 0.8136 - val_loss: 0.0941 - val_acc: 0.8124\n",
      "Epoch 29/50\n",
      "469/469 [==============================] - 6s 13ms/step - loss: 0.0944 - acc: 0.8136 - val_loss: 0.0943 - val_acc: 0.8123\n",
      "Epoch 30/50\n",
      "469/469 [==============================] - 6s 13ms/step - loss: 0.0943 - acc: 0.8136 - val_loss: 0.0941 - val_acc: 0.8125\n",
      "Epoch 31/50\n",
      "469/469 [==============================] - 6s 13ms/step - loss: 0.0943 - acc: 0.8136 - val_loss: 0.0939 - val_acc: 0.8126\n",
      "Epoch 32/50\n",
      "469/469 [==============================] - 6s 13ms/step - loss: 0.0942 - acc: 0.8136 - val_loss: 0.0941 - val_acc: 0.8129\n",
      "Epoch 33/50\n",
      "469/469 [==============================] - 6s 13ms/step - loss: 0.0941 - acc: 0.8137 - val_loss: 0.0939 - val_acc: 0.8127\n",
      "Epoch 34/50\n",
      "469/469 [==============================] - 6s 13ms/step - loss: 0.0942 - acc: 0.8136 - val_loss: 0.0938 - val_acc: 0.8127\n",
      "Epoch 35/50\n",
      "469/469 [==============================] - 6s 13ms/step - loss: 0.0941 - acc: 0.8137 - val_loss: 0.0938 - val_acc: 0.8126\n",
      "Epoch 36/50\n",
      "469/469 [==============================] - 6s 13ms/step - loss: 0.0940 - acc: 0.8137 - val_loss: 0.0938 - val_acc: 0.8128\n",
      "Epoch 37/50\n",
      "469/469 [==============================] - 6s 13ms/step - loss: 0.0940 - acc: 0.8137 - val_loss: 0.0937 - val_acc: 0.8127\n",
      "Epoch 38/50\n",
      "469/469 [==============================] - 6s 13ms/step - loss: 0.0940 - acc: 0.8137 - val_loss: 0.0940 - val_acc: 0.8124\n",
      "Epoch 39/50\n",
      "469/469 [==============================] - 6s 13ms/step - loss: 0.0939 - acc: 0.8137 - val_loss: 0.0936 - val_acc: 0.8126\n",
      "Epoch 40/50\n",
      "469/469 [==============================] - 6s 13ms/step - loss: 0.0939 - acc: 0.8137 - val_loss: 0.0936 - val_acc: 0.8128\n",
      "Epoch 41/50\n",
      "469/469 [==============================] - 6s 13ms/step - loss: 0.0939 - acc: 0.8137 - val_loss: 0.0943 - val_acc: 0.8130\n",
      "Epoch 42/50\n",
      "469/469 [==============================] - 6s 13ms/step - loss: 0.0938 - acc: 0.8137 - val_loss: 0.0936 - val_acc: 0.8128\n",
      "Epoch 43/50\n",
      "469/469 [==============================] - 6s 13ms/step - loss: 0.0938 - acc: 0.8137 - val_loss: 0.0938 - val_acc: 0.8129\n",
      "Epoch 44/50\n",
      "469/469 [==============================] - 6s 13ms/step - loss: 0.0938 - acc: 0.8137 - val_loss: 0.0937 - val_acc: 0.8127\n",
      "Epoch 45/50\n",
      "469/469 [==============================] - 6s 13ms/step - loss: 0.0937 - acc: 0.8137 - val_loss: 0.0936 - val_acc: 0.8128\n",
      "Epoch 46/50\n",
      "469/469 [==============================] - 6s 13ms/step - loss: 0.0937 - acc: 0.8137 - val_loss: 0.0935 - val_acc: 0.8126\n",
      "Epoch 47/50\n",
      "469/469 [==============================] - 6s 13ms/step - loss: 0.0937 - acc: 0.8137 - val_loss: 0.0935 - val_acc: 0.8126\n",
      "Epoch 48/50\n",
      "469/469 [==============================] - 6s 13ms/step - loss: 0.0937 - acc: 0.8137 - val_loss: 0.0935 - val_acc: 0.8128\n",
      "Epoch 49/50\n",
      "469/469 [==============================] - 6s 13ms/step - loss: 0.0936 - acc: 0.8137 - val_loss: 0.0937 - val_acc: 0.8124\n",
      "Epoch 50/50\n",
      "469/469 [==============================] - 6s 13ms/step - loss: 0.0936 - acc: 0.8137 - val_loss: 0.0936 - val_acc: 0.8128\n"
     ]
    }
   ],
   "source": [
    "autoencoder.compile(optimizer='adam', loss='binary_crossentropy', metrics=['acc'])\n",
    "\n",
    "early = EarlyStopping(monitor=\"val_loss\", mode=\"min\", patience=5)\n",
    "\n",
    "history = autoencoder.fit(x_train_noisy, x_train,\n",
    "                epochs=50,\n",
    "                batch_size=128,\n",
    "                shuffle=True,\n",
    "                validation_data=(x_test_noisy, x_test),\n",
    "                callbacks=[early])"
   ]
  },
  {
   "cell_type": "markdown",
   "metadata": {},
   "source": [
    "## 6) Plot accuracy and loss curves"
   ]
  },
  {
   "cell_type": "code",
   "execution_count": 7,
   "metadata": {
    "colab": {
     "base_uri": "https://localhost:8080/",
     "height": 582
    },
    "colab_type": "code",
    "id": "wTBEcgZ2rHGm",
    "outputId": "409b5926-6f48-4812-b718-a6322af859a9"
   },
   "outputs": [
    {
     "data": {
      "image/png": "[encoded data removed]",
      "text/plain": [
       "<Figure size 432x288 with 1 Axes>"
      ]
     },
     "metadata": {
      "needs_background": "light",
      "tags": []
     },
     "output_type": "display_data"
    },
    {
     "data": {
      "text/plain": [
       "<Figure size 432x288 with 0 Axes>"
      ]
     },
     "metadata": {
      "tags": []
     },
     "output_type": "display_data"
    },
    {
     "data": {
      "image/png": "[encoded data removed]",
      "text/plain": [
       "<Figure size 432x288 with 1 Axes>"
      ]
     },
     "metadata": {
      "needs_background": "light",
      "tags": []
     },
     "output_type": "display_data"
    },
    {
     "data": {
      "text/plain": [
       "<Figure size 432x288 with 0 Axes>"
      ]
     },
     "metadata": {
      "tags": []
     },
     "output_type": "display_data"
    }
   ],
   "source": [
    "def plot_history(history):\n",
    "  acc = history.history['acc']\n",
    "  val_acc = history.history['val_acc']\n",
    "  loss = history.history['loss']\n",
    "  val_loss = history.history['val_loss']\n",
    "\n",
    "  epochs = range(len(acc))\n",
    "\n",
    "  plt.plot(epochs, acc, 'r', label='Training accuracy')\n",
    "  plt.plot(epochs, val_acc, 'b', label='Validation accuracy')\n",
    "  plt.title('Training and validation accuracy')\n",
    "  plt.legend(loc=0)\n",
    "  plt.figure()\n",
    "  plt.show()\n",
    "  plt.plot(epochs, loss, 'r', label='Training loss')\n",
    "  plt.plot(epochs, val_loss, 'b', label='Validation loss')\n",
    "  plt.title('Training and validation loss')\n",
    "  plt.legend(loc=0)\n",
    "  plt.figure()\n",
    "  plt.show()\n",
    "\n",
    "plot_history(history)"
   ]
  },
  {
   "cell_type": "markdown",
   "metadata": {},
   "source": [
    "## 7) Predict on a sample image"
   ]
  },
  {
   "cell_type": "code",
   "execution_count": null,
   "metadata": {
    "colab": {},
    "colab_type": "code",
    "id": "NR1_pnbCuKpv"
   },
   "outputs": [],
   "source": [
    "test_img = np.expand_dims(x_test_noisy[0].reshape(28, 28, 1), axis=0)\n",
    "img_pred = autoencoder.predict(test_img) "
   ]
  },
  {
   "cell_type": "code",
   "execution_count": 19,
   "metadata": {
    "colab": {
     "base_uri": "https://localhost:8080/",
     "height": 513
    },
    "colab_type": "code",
    "id": "uprwAy_Pun5M",
    "outputId": "06bde7c9-19d6-4bcb-c960-f3efb540c890"
   },
   "outputs": [
    {
     "data": {
      "image/png": "[encoded data removed]",
      "text/plain": [
       "<Figure size 432x288 with 1 Axes>"
      ]
     },
     "metadata": {
      "needs_background": "light",
      "tags": []
     },
     "output_type": "display_data"
    },
    {
     "data": {
      "image/png": "[encoded data removed]",
      "text/plain": [
       "<Figure size 432x288 with 1 Axes>"
      ]
     },
     "metadata": {
      "needs_background": "light",
      "tags": []
     },
     "output_type": "display_data"
    }
   ],
   "source": [
    "%matplotlib inline \n",
    "\n",
    "plt.imshow(np.squeeze(x_test_noisy[0].reshape(28, 28, 1)), interpolation='nearest')\n",
    "plt.show()\n",
    "plt.imshow(np.squeeze(img_pred), interpolation='nearest')\n",
    "plt.show()"
   ]
  }
 ],
 "metadata": {
  "accelerator": "GPU",
  "colab": {
   "name": "Image Denoising.ipynb",
   "provenance": []
  },
  "kernelspec": {
   "display_name": "Python 3",
   "language": "python",
   "name": "python3"
  },
  "language_info": {
   "codemirror_mode": {
    "name": "ipython",
    "version": 3
   },
   "file_extension": ".py",
   "mimetype": "text/x-python",
   "name": "python",
   "nbconvert_exporter": "python",
   "pygments_lexer": "ipython3",
   "version": "3.7.6"
  }
 },
 "nbformat": 4,
 "nbformat_minor": 4
}
